﻿{
  "metadata": {
    "name": "Jarvis Hive Project",
    "kernelspec": {
      "language": "scala",
      "name": "spark2-scala"
    },
    "language_info": {
      "codemirror_mode": "text/x-scala",
      "file_extension": ".scala",
      "mimetype": "text/x-scala",
      "name": "scala",
      "pygments_lexer": "scala"
    }
  },
  "nbformat": 4,
  "nbformat_minor": 2,
  "cells": [
    {
      "cell_type": "markdown",
      "metadata": {},
      "source": "# Query GS data\n- Create a hive table (`wdi_gs`) against the gs wdi_2016 data.\n- Count number of rows from the wdi_gs table"
    },
    {
      "cell_type": "code",
      "execution_count": 1,
      "metadata": {
        "autoscroll": "auto"
      },
      "outputs": [],
      "source": "\nDROP TABLE IF EXISTS wdi_gs"
    },
    {
      "cell_type": "code",
      "execution_count": 2,
      "metadata": {
        "autoscroll": "auto"
      },
      "outputs": [],
      "source": "CREATE EXTERNAL TABLE wdi_gs\n(year INTEGER, countryName STRING, countryCode STRING, indicatorName STRING, indicatorCode STRING, indicatorValue FLOAT)\nROW FORMAT DELIMITED FIELDS TERMINATED BY \u0027,\u0027 LINES TERMINATED BY \u0027\\n\u0027\nLOCATION \u0027gs://jarvis_data_eng_vandana/datasets/wdi_2016\u0027\nTBLPROPERTIES (\"skip.header.line.count\"\u003d\"1\")"
    },
    {
      "cell_type": "code",
      "execution_count": 3,
      "metadata": {
        "autoscroll": "auto"
      },
      "outputs": [],
      "source": "-- show table meta data\nDESCRIBE FORMATTED wdi_gs"
    },
    {
      "cell_type": "code",
      "execution_count": 4,
      "metadata": {
        "autoscroll": "auto"
      },
      "outputs": [],
      "source": "SELECT count(countryName) as count FROM wdi_gs"
    },
    {
      "cell_type": "markdown",
      "metadata": {},
      "source": "# Load GS Data to HDFS\n\n- Create an external table wdi_csv_text\n- Run an Insert Overwrite Table command HiveQL which reads data from wdi_gs and Writes to table wdi_csv_text"
    },
    {
      "cell_type": "code",
      "execution_count": 6,
      "metadata": {
        "autoscroll": "auto"
      },
      "outputs": [],
      "source": "%hive\r\nDROP TABLE IF EXISTS wdi_csv_text;\r\nCREATE EXTERNAL TABLE wdi_csv_text\r\n(year INTEGER, countryName STRING, countryCode STRING, indicatorName STRING, indicatorCode STRING, indicatorValue FLOAT)\r\nROW FORMAT DELIMITED FIELDS TERMINATED BY \u0027,\u0027 LINES TERMINATED BY \u0027\\n\u0027\r\n"
    },
    {
      "cell_type": "code",
      "execution_count": 7,
      "metadata": {
        "autoscroll": "auto"
      },
      "outputs": [],
      "source": "%hive\nINSERT OVERWRITE TABLE wdi_csv_text\nSELECT * FROM wdi_gs"
    },
    {
      "cell_type": "code",
      "execution_count": 8,
      "metadata": {
        "autoscroll": "auto"
      },
      "outputs": [],
      "source": "%hive\nSELECT count(countryName) FROM wdi_csv_text \n"
    },
    {
      "cell_type": "markdown",
      "metadata": {},
      "source": "# Remove Cache Memory\n\n- Free the Memory Cache and Testing the performance of same Query"
    },
    {
      "cell_type": "code",
      "execution_count": 10,
      "metadata": {
        "autoscroll": "auto"
      },
      "outputs": [],
      "source": "%sh\nfree -m\n              total        used        free      shared  buff/cache   available\nMem:          16007       10026        4017          24        1964        5630\nSwap:             0           0           0\n\necho 3 | sudo tee /proc/sys/vm/drop_caches\n\nfree -m\n              total        used        free      shared  buff/cache   available\nMem:          16007       10010        5703          24         293        5709\nSwap:             0           0           0\n\n\n%worker node1  -free cache\n\n free -m\n              total        used        free      shared  buff/cache   available\nMem:          12984        1431        8536          24        3016       11215\nSwap:             0           0           0\n\necho 3 | sudo tee /proc/sys/vm/drop_caches\n free -m\n              total        used        free      shared  buff/cache   available\nMem:          12984        1423       11405          24         154       11320\nSwap:             0           0           0\n\n%workernode2- free cache\nfree -m\n              total        used        free      shared  buff/cache   available\nMem:          12984        2057        7909          24        3016       10588\nSwap:             0           0           0\n\n\necho 3 | sudo tee /proc/sys/vm/drop_caches\n\n total        used        free      shared  buff/cache   available\nMem:          12984        1734       11094          24         155       11008\nSwap:             0           0           0"
    },
    {
      "cell_type": "code",
      "execution_count": 11,
      "metadata": {
        "autoscroll": "auto"
      },
      "outputs": [],
      "source": "%hive\nSELECT count(countryName) FROM wdi_csv_text"
    },
    {
      "cell_type": "markdown",
      "metadata": {},
      "source": "# Reason for Change in Execution time for both the queries\n- Time taken to execute the above same query is different that is the first query take 28 sec for execution Whereas as the Second case it takes 43 sec which is more time than the first case this is because in First case  \n- The file system cache holds data that was recently read from the disk, making it possible for subsequent requests to obtain data from cache rather than having to read it again from the disk.\n- Whereas in later case the Cache memory is cleared and then the query is executed."
    },
    {
      "cell_type": "code",
      "execution_count": 13,
      "metadata": {
        "autoscroll": "auto"
      },
      "outputs": [],
      "source": "%sh\ncd ~\nhdfs  dfs -get  hdfs:///user/vandana/hive/wdi/wdi_csv_text\ncd wdi_csv_text\n\n#calculate current directoty size\ndu -ch\n\t.\n#1.8G\ttotal\n\n#clear fs cache\necho 3 | sudo tee /proc/sys/vm/drop_caches\n\n\n#bash row count\ndate +%s \u0026\u0026 cat * | wc \u0026\u0026 date +%s\n\n\n"
    },
    {
      "cell_type": "markdown",
      "metadata": {},
      "source": "# Hive vs Bash\n## Observation on performance difference on Hive and Bash approach\n\n- Hive approach takes more time for execution since the job is distributed among the worker nodes."
    },
    {
      "cell_type": "markdown",
      "metadata": {},
      "source": "# Parsing issue\n"
    },
    {
      "cell_type": "code",
      "execution_count": 16,
      "metadata": {
        "autoscroll": "auto"
      },
      "outputs": [],
      "source": "%hive\nSELECT distinct(indicatorcode)\nFROM wdi_csv_text\nORDER BY indicatorcode\nLIMIT 20;\n"
    },
    {
      "cell_type": "markdown",
      "metadata": {},
      "source": " \n# Parsing issue with Indicatorcode column\nwdi_csv_txt uses LazySimpleSerde Which split the line by comma.However the indicatorcode column itself contain comma which this Serde doesnt understand hence unexpected values are printed as output.\nSince we suspect it\u0027s a parsing issue, it would be benefitial to display entire rows instead of letting SerDe to process each line into columns.\nAs a result we need to use another SerDe which addresses the issues related to csv edge cases.\n\n"
    },
    {
      "cell_type": "code",
      "execution_count": 18,
      "metadata": {
        "autoscroll": "auto"
      },
      "outputs": [],
      "source": "%hive\nCREATE EXTERNAL TABLE wdi_gs_debug\n(line STRING)\nLOCATION \u0027gs://jarvis_data_eng_vandanadamodara/datasets/wdi_2016\u0027\nTBLPROPERTIES (\"skip.header.line.count\"\u003d\"1\");\n"
    },
    {
      "cell_type": "code",
      "execution_count": 19,
      "metadata": {
        "autoscroll": "auto"
      },
      "outputs": [],
      "source": "%hive\nSELECT * FROM wdi_gs_debug\nWHERE line like \"%\\(\\% of urban population\\)\\\"%\""
    },
    {
      "cell_type": "markdown",
      "metadata": {},
      "source": " \n\n# Creating a table with OpenCSVSerde\n"
    },
    {
      "cell_type": "code",
      "execution_count": 21,
      "metadata": {
        "autoscroll": "auto"
      },
      "outputs": [],
      "source": "%hive\nCREATE EXTERNAL TABLE wdi_opencsv_gs\n(year INTEGER, countryName STRING, countryCode STRING, indicatorName STRING, indicatorCode STRING, indicatorValue FLOAT)\nROW FORMAT SERDE  \u0027org.apache.hadoop.hive.serde2.OpenCSVSerde\u0027\nLOCATION \u0027gs://jarvis_data_eng_vandanadamodara/datasets/wdi_2016\u0027\nTBLPROPERTIES (\"skip.header.line.count\"\u003d\"1\")\n"
    },
    {
      "cell_type": "code",
      "execution_count": 22,
      "metadata": {
        "autoscroll": "auto"
      },
      "outputs": [],
      "source": "%hive\nCREATE EXTERNAL TABLE wdi_opencsv_text\n(year INTEGER, countryName STRING, countryCode STRING, indicatorName STRING, indicatorCode STRING, indicatorValue FLOAT)\nROW FORMAT SERDE  \u0027org.apache.hadoop.hive.serde2.OpenCSVSerde\u0027\nLOCATION \u0027hdfs:///user/vandana/hive/wdi/wdi_opencsv_text\u0027\n"
    },
    {
      "cell_type": "code",
      "execution_count": 23,
      "metadata": {
        "autoscroll": "auto"
      },
      "outputs": [],
      "source": "%hive\nINSERT OVERWRITE TABLE wdi_opencsv_text\nSELECT * FROM wdi_opencsv_gs"
    },
    {
      "cell_type": "code",
      "execution_count": 24,
      "metadata": {
        "autoscroll": "auto"
      },
      "outputs": [],
      "source": "%hive\nSELECT distinct(indicatorcode)\nFROM wdi_opencsv_text\nORDER BY indicatorcode\nLIMIT 20;\n"
    },
    {
      "cell_type": "code",
      "execution_count": 25,
      "metadata": {
        "autoscroll": "auto"
      },
      "outputs": [],
      "source": "%hive\nSELECT count(countryName) FROM wdi_opencsv_text"
    },
    {
      "cell_type": "code",
      "execution_count": 26,
      "metadata": {
        "autoscroll": "auto"
      },
      "outputs": [],
      "source": "%hive\nSELECT count(countryName) FROM wdi_csv_text"
    },
    {
      "cell_type": "markdown",
      "metadata": {},
      "source": "# Compare Execution time between wdi_opencsv_text and wd_csv_text\n\n- loading data from wdi_opencsv_text is significnantly slower than 2min 7sec than wdi_csv_text 31 sec\n\n- This is because performance trade off .By handling tricky CSV Edge cases,the performance gets decreased."
    },
    {
      "cell_type": "code",
      "execution_count": 28,
      "metadata": {
        "autoscroll": "auto"
      },
      "outputs": [],
      "source": "%hive\nDESCRIBE FORMATTED wdi_opencsv_text\n"
    },
    {
      "cell_type": "code",
      "execution_count": 29,
      "metadata": {
        "autoscroll": "auto"
      },
      "outputs": [],
      "source": "%hive\nDESCRIBE FORMATTED wdi_csv_text\n"
    },
    {
      "cell_type": "markdown",
      "metadata": {},
      "source": "# Compare DESCRIBE FORMATTED wdi_opencsv_text and DESCRIBE FORMATTED wdi_csv_text \n\nOpenCSVSerDe treats all columns to be string.Even if you create a table with non-string column types using this SerDe,the Describe table Output would show  string column type.\nTo convert Columns to the desired type,you can create a view over the table that does the Cast to the desired type."
    },
    {
      "cell_type": "code",
      "execution_count": 31,
      "metadata": {
        "autoscroll": "auto"
      },
      "outputs": [],
      "source": "%hive\nDROP VIEW IF EXISTS wdi_opencsv_text_view;\n\nCREATE VIEW IF NOT EXISTS wdi_opencsv_text_view\nAS\nSELECT CAST(year as INTEGER), countryName , countryCode, indicatorName , indicatorCode, CAST(indicatorValue as FLOAT) FROM wdi_opencsv_text"
    },
    {
      "cell_type": "code",
      "execution_count": 32,
      "metadata": {
        "autoscroll": "auto"
      },
      "outputs": [],
      "source": "%hive\nSELECT * FROM wdi_opencsv_text_view"
    },
    {
      "cell_type": "markdown",
      "metadata": {},
      "source": "# 2015 Canada GDP Growth HQL\n\n- This Query take long time because it has to search the Entire table to find the Record satisfying the Where clause in a given query\n- Solution would be to Partition the table as per year column and then the query will run faster as there are less data to be scanned."
    },
    {
      "cell_type": "code",
      "execution_count": 34,
      "metadata": {
        "autoscroll": "auto"
      },
      "outputs": [],
      "source": "%hive\nSELECT indicatorvalue as GDP_growth_value ,countryname,year FROM wdi_opencsv_text_view Where indicatorname LIKE \"%GDP growth%\" AND year\u003d2015 AND countryname\u003d\u0027Canada\u0027"
    },
    {
      "cell_type": "code",
      "execution_count": 35,
      "metadata": {
        "autoscroll": "auto"
      },
      "outputs": [],
      "source": "%hive\nCREATE EXTERNAL TABLE wdi_opencsv_text_partitions\n(countryName STRING, countryCode STRING, indicatorName STRING, indicatorCode STRING, indicatorValue FLOAT)\nPARTITIONED BY (year INTEGER)\nROW FORMAT SERDE  \u0027org.apache.hadoop.hive.serde2.OpenCSVSerde\u0027\nWITH SERDEPROPERTIES(\"seperatorChar\"\u003d\",\",\n\"quoteChar\"\u003d\"\\\"\",\n\"escapeChar\"\u003d\"\\\\\")\nLOCATION \u0027hdfs:///user/vandana/hive/wdi/wdi_opencsv_text_partitions\u0027\n"
    },
    {
      "cell_type": "raw",
      "metadata": {
        "format": "text/plain"
      },
      "source": "%hive\n"
    },
    {
      "cell_type": "code",
      "execution_count": 37,
      "metadata": {
        "autoscroll": "auto"
      },
      "outputs": [],
      "source": "%hive\nSET hive.exec.dynamic.partition.mode \u003d nonstrict;"
    },
    {
      "cell_type": "code",
      "execution_count": 38,
      "metadata": {
        "autoscroll": "auto"
      },
      "outputs": [],
      "source": "%hive\nINSERT OVERWRITE TABLE wdi_opencsv_text_partitions SELECT countryname,countrycode,indicatorname,indicatorcode,indicatorvalue,year From wdi_opencsv_text"
    },
    {
      "cell_type": "markdown",
      "metadata": {},
      "source": "# Partitioned Table Performance\n\n- Running the 2015 GDP Value Query in partitioned table (21 sec) ran faster compared to non-partitioned table(1 min 43 sec)"
    },
    {
      "cell_type": "code",
      "execution_count": 40,
      "metadata": {
        "autoscroll": "auto"
      },
      "outputs": [],
      "source": "%hive\nSELECT indicatorvalue as GDP_growth_value ,countryname,year FROM wdi_opencsv_text_partitions Where indicatorname LIKE \"%GDP growth%\" AND year\u003d2015 AND countryname\u003d\u0027Canada\u0027\n"
    },
    {
      "cell_type": "markdown",
      "metadata": {},
      "source": "# Columenar File Optimization"
    },
    {
      "cell_type": "code",
      "execution_count": 42,
      "metadata": {
        "autoscroll": "auto"
      },
      "outputs": [],
      "source": "%hive\nCREATE EXTERNAL TABLE wdi_csv_parquet\n(year INTEGER, countryName STRING, countryCode STRING, indicatorName STRING, indicatorCode STRING, indicatorValue FLOAT)\nSTORED AS PARQUET\nLOCATION \u0027hdfs:///user/vandana/hive/wdi/wdi_csv_parquet\u0027\n"
    },
    {
      "cell_type": "code",
      "execution_count": 43,
      "metadata": {
        "autoscroll": "auto"
      },
      "outputs": [],
      "source": "%hive\nINSERT OVERWRITE TABLE wdi_csv_parquet\nSELECT * FROM wdi_opencsv_gs\n"
    },
    {
      "cell_type": "code",
      "execution_count": 44,
      "metadata": {
        "autoscroll": "auto"
      },
      "outputs": [],
      "source": "%sh\nhdfs dfs -du -s -h /user/vandana/hive/wdi/wdi_csv_text"
    },
    {
      "cell_type": "code",
      "execution_count": 45,
      "metadata": {
        "autoscroll": "auto"
      },
      "outputs": [],
      "source": "%sh\nhdfs dfs -du -s -h /user/vandana/hive/wdi/wdi_csv_parquet\n\n"
    },
    {
      "cell_type": "markdown",
      "metadata": {},
      "source": "# Comparing Performance of \"SELECT count(countryName) FROM wdi_csv_parquet\" and \"SELECT count(countryName) FROM wdi_opencsv_text\"\n\n- In the Table wdi_csv_parquet Table Data is stored in the parquet format which is  format that embeds the schema or structure within the data itself. This results in a file that is optimized for query performance and minimizing I/O. Parquet also supports very efficient compression and encoding scheme\n- Apache Parquet is designed to bring efficient columnar storage of data compared to row-based files like CSV.\n- So this results in performance improvement for the Query performed using wdi_csv_parquet (23 sec) compared to wdi_opencsv_text (1min 36 sec)"
    },
    {
      "cell_type": "code",
      "execution_count": 47,
      "metadata": {
        "autoscroll": "auto"
      },
      "outputs": [],
      "source": "%hive\nSELECT count(countryName) FROM wdi_csv_parquet;\n"
    },
    {
      "cell_type": "code",
      "execution_count": 48,
      "metadata": {
        "autoscroll": "auto"
      },
      "outputs": [],
      "source": "%hive\nSELECT count(countryName) FROM wdi_opencsv_text;"
    },
    {
      "cell_type": "code",
      "execution_count": 49,
      "metadata": {
        "autoscroll": "auto"
      },
      "outputs": [],
      "source": "%hive\nSELECT indicatorvalue as GDP_growth_value ,countryname,year FROM wdi_opencsv_text Where indicatorname LIKE \"%GDP growth%\" AND year\u003d2015 AND countryname\u003d\u0027Canada\u0027"
    },
    {
      "cell_type": "code",
      "execution_count": 50,
      "metadata": {
        "autoscroll": "auto"
      },
      "outputs": [],
      "source": "%hive\nSELECT indicatorvalue as GDP_growth_value ,countryname,year FROM wdi_csv_parquet Where indicatorname LIKE \"%GDP growth%\" AND year\u003d2015 AND countryname\u003d\u0027Canada\u0027"
    },
    {
      "cell_type": "markdown",
      "metadata": {},
      "source": "# Find the highest `GDP growth` year  for each country.\n\n- Comparision of Performance of Same query using  Hive and sparkSql \n-  As we can see SparkSql takes slightly less time to perform same query compared with Hive.So Better performance can be obtained using SparkSql"
    },
    {
      "cell_type": "code",
      "execution_count": 52,
      "metadata": {
        "autoscroll": "auto"
      },
      "outputs": [],
      "source": "%hive\r\nSELECT \r\nwid.indicatorvalue GDP_GROWTH_VALUE,\r\nwid.year,\r\nwid.countryname \r\nFROM  wdi_csv_parquet wid ,\r\n(SELECT countryname,max(indicatorvalue) max_gdp from wdi_csv_parquet t WHERE indicatorcode\u003d\u0027NY.GDP.MKTP.KD.ZG\u0027 GROUP BY countryname) t\r\nWHERE\r\nwid.countryname\u003dt.countryname AND\r\nwid.indicatorvalue\u003dmax_gdp AND \r\nwid.indicatorvalue!\u003d\u00270.0\u0027"
    },
    {
      "cell_type": "code",
      "execution_count": 53,
      "metadata": {
        "autoscroll": "auto"
      },
      "outputs": [],
      "source": "%spark.sql\nSELECT \nwid.indicatorvalue GDP_GROWTH_VALUE,\nwid.year,\nwid.countryname \nFROM  wdi_csv_parquet wid ,\n(SELECT countryname,max(indicatorvalue) max_gdp from wdi_csv_parquet t WHERE indicatorcode\u003d\u0027NY.GDP.MKTP.KD.ZG\u0027 GROUP BY countryname) t\nWHERE\nwid.countryname\u003dt.countryname AND\nwid.indicatorvalue\u003dmax_gdp AND \nwid.indicatorvalue!\u003d\u00270.0\u0027\n"
    },
    {
      "cell_type": "markdown",
      "metadata": {},
      "source": "# Sort GDP by country and year\n"
    },
    {
      "cell_type": "code",
      "execution_count": 55,
      "metadata": {
        "autoscroll": "auto"
      },
      "outputs": [],
      "source": "%hive\nSELECT \nindicatorvalue,year,countryname,indicatorcode\nFROM  wdi_csv_parquet\nWHERE indicatorcode\u003d\u0027NY.GDP.MKTP.KD.ZG\u0027\nSORT BY countryname,year\n"
    },
    {
      "cell_type": "raw",
      "metadata": {
        "format": "text/plain"
      },
      "source": "%hive\n"
    }
  ]
}